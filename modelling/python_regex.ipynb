{
 "cells": [
  {
   "cell_type": "markdown",
   "id": "d01e0f74",
   "metadata": {},
   "source": [
    "## Create a Python program:"
   ]
  },
  {
   "cell_type": "markdown",
   "id": "5cc90741",
   "metadata": {},
   "source": [
    "## 1. Which matches a word containing vowels in it (a,ı,o,u,e,ə,i,ö,ü)."
   ]
  },
  {
   "cell_type": "code",
   "execution_count": 2,
   "id": "9e36e116",
   "metadata": {},
   "outputs": [],
   "source": [
    "import re"
   ]
  },
  {
   "cell_type": "code",
   "execution_count": 122,
   "id": "dae07a62",
   "metadata": {},
   "outputs": [
    {
     "data": {
      "text/plain": [
       "['Salam',\n",
       " 'Bu',\n",
       " 'Azərbaycan',\n",
       " 'ana',\n",
       " 'dilində',\n",
       " 'yazılmış',\n",
       " 'nümunə',\n",
       " 'mətnidi']"
      ]
     },
     "execution_count": 122,
     "metadata": {},
     "output_type": "execute_result"
    }
   ],
   "source": [
    "text = \"Salam! Bu Azərbaycan, ana sjkfd dilində yazılmış nümunə mətnidi.\"\n",
    "matches = re.findall(r'\\b\\w*[aıoueəiöü]\\w*\\b', text)\n",
    "matches"
   ]
  },
  {
   "cell_type": "markdown",
   "id": "36be4bdf",
   "metadata": {},
   "source": [
    "## 2. Which matches a word containing vowels not at the start or end of the word (a,ı,o,u,e,ə,i,ö,ü)."
   ]
  },
  {
   "cell_type": "code",
   "execution_count": 70,
   "id": "148e708a",
   "metadata": {},
   "outputs": [
    {
     "data": {
      "text/plain": [
       "['Salam', 'yazılmış']"
      ]
     },
     "execution_count": 70,
     "metadata": {},
     "output_type": "execute_result"
    }
   ],
   "source": [
    "text = \"Salam! Bu Azərbaycan, ana dilində yazılmış nümunə mətnidi.\"\n",
    "matches = re.findall(r'\\b\\w[aıoueəiöü]\\w*[aıoueəiöü]\\w\\b', text)\n",
    "matches"
   ]
  },
  {
   "cell_type": "markdown",
   "id": "bbf4bc46",
   "metadata": {},
   "source": [
    "##  3. Checks for a number at the end of a given string."
   ]
  },
  {
   "cell_type": "code",
   "execution_count": 80,
   "id": "b50ef0b4",
   "metadata": {},
   "outputs": [
    {
     "data": {
      "text/plain": [
       "['123']"
      ]
     },
     "execution_count": 80,
     "metadata": {},
     "output_type": "execute_result"
    }
   ],
   "source": [
    "text = \"This is an example string with a number 123 at the end.\"\n",
    "#matches = re.findall(r'\\d+\\b', text)\n",
    "matches = re.findall(r'(\\d+)', text)\n",
    "matches"
   ]
  },
  {
   "cell_type": "markdown",
   "id": "b1c7e9bd",
   "metadata": {},
   "source": [
    "## 4. Which matches a word at the end of string, with optional question mark and exclamation point."
   ]
  },
  {
   "cell_type": "code",
   "execution_count": 98,
   "id": "da8c8e1b",
   "metadata": {},
   "outputs": [
    {
     "data": {
      "text/plain": [
       "['today?']"
      ]
     },
     "execution_count": 98,
     "metadata": {},
     "output_type": "execute_result"
    }
   ],
   "source": [
    "text = \"Hello, how are you today?\"\n",
    "matches = re.findall(r'\\w*\\b[!?]?$', text)\n",
    "#matches = re.findall(r'\\b\\w+\\b[!?]?$', text)\n",
    "matches"
   ]
  },
  {
   "cell_type": "markdown",
   "id": "1225901e",
   "metadata": {},
   "source": [
    "## 5. Replaces whitespaces with a tab and vice versa."
   ]
  },
  {
   "cell_type": "code",
   "execution_count": 104,
   "id": "3086439c",
   "metadata": {},
   "outputs": [
    {
     "name": "stdout",
     "output_type": "stream",
     "text": [
      "This is a sample string with spaces and tabs.\n",
      "This\tis\ta\tsample\tstring\twith\tspaces\tand\ttabs.\n",
      "Hello, World!\n",
      "Hello,\f",
      "World!\n"
     ]
    }
   ],
   "source": [
    "text = \"This is a sample string with spaces and tabs.\"\n",
    "text1 = \"Hello, World!\"\n",
    "replace_space = re.sub(r' ', '\\t', text)\n",
    "replace_spc = re.sub(r' ', '\\f', text1)\n",
    "\n",
    "print(text)\n",
    "print(replace_space)\n",
    "print(text1)\n",
    "print(replace_spc)"
   ]
  },
  {
   "cell_type": "markdown",
   "id": "ee875ff2",
   "metadata": {},
   "source": [
    "## 6. Finds all words starting with 'ə' or 'ü' in a given string."
   ]
  },
  {
   "cell_type": "code",
   "execution_count": 169,
   "id": "47545fc3",
   "metadata": {},
   "outputs": [
    {
     "data": {
      "text/plain": [
       "['ümidəm', 'əla', 'əminəm', 'üzr']"
      ]
     },
     "execution_count": 169,
     "metadata": {},
     "output_type": "execute_result"
    }
   ],
   "source": [
    "text = \"Ümidəm, bu əla məsələyə görə əminəm ki, üzr istəyirsiniz.\"\n",
    "#text = text.lower()\n",
    "matches = re.findall(r'\\b[ə|ü]\\w+\\b', text.lower())\n",
    "matches"
   ]
  },
  {
   "cell_type": "markdown",
   "id": "1197de49",
   "metadata": {},
   "source": [
    "## 7. Removes all whitespaces from a string."
   ]
  },
  {
   "cell_type": "code",
   "execution_count": 171,
   "id": "76a95bdd",
   "metadata": {},
   "outputs": [
    {
     "data": {
      "text/plain": [
       "'Thisisanexamplestring.'"
      ]
     },
     "execution_count": 171,
     "metadata": {},
     "output_type": "execute_result"
    }
   ],
   "source": [
    "text = \"This is an example string.\"\n",
    "\n",
    "remove_spaces = re.sub(r' ', '', text)\n",
    "\n",
    "remove_spaces"
   ]
  },
  {
   "cell_type": "markdown",
   "id": "0296b10d",
   "metadata": {},
   "source": [
    "## 8. Finds all words which have more than 4 characters in a string."
   ]
  },
  {
   "cell_type": "code",
   "execution_count": 173,
   "id": "27c50ef6",
   "metadata": {},
   "outputs": [
    {
     "data": {
      "text/plain": [
       "['This', 'example', 'string']"
      ]
     },
     "execution_count": 173,
     "metadata": {},
     "output_type": "execute_result"
    }
   ],
   "source": [
    "text = \"This is an example string.\"\n",
    "\n",
    "matches = re.findall(r'\\w{4,}', text)\n",
    "\n",
    "matches"
   ]
  },
  {
   "cell_type": "markdown",
   "id": "29759a3f",
   "metadata": {},
   "source": [
    "## 9. Inserts spaces between words starting with capital letters.\n",
    "\n",
    "   ## Original string: PythonProgrammingLanguage\n",
    "   ## Expected output: Python Programming Language"
   ]
  },
  {
   "cell_type": "code",
   "execution_count": 4,
   "id": "1e105280",
   "metadata": {},
   "outputs": [
    {
     "data": {
      "text/plain": [
       "'Python Programming Language'"
      ]
     },
     "execution_count": 4,
     "metadata": {},
     "output_type": "execute_result"
    }
   ],
   "source": [
    "text = \"PythonProgrammingLanguage\"\n",
    "\n",
    "#result = re.sub(r'^[A-Z]\\w*', '^[A-Z]\\w*\\s[A-Z]?\\w*\\s[A-Z]?\\w*', text)\n",
    "result = re.sub(r'([A-Z])', r' \\1', text).strip()\n",
    "result"
   ]
  },
  {
   "cell_type": "code",
   "execution_count": 7,
   "id": "db0ff474",
   "metadata": {},
   "outputs": [
    {
     "data": {
      "text/plain": [
       "'Python Programming Language'"
      ]
     },
     "execution_count": 7,
     "metadata": {},
     "output_type": "execute_result"
    }
   ],
   "source": [
    "result = ' '.join(re.findall(r'[A-Z][a-z]+', text))\n",
    "result"
   ]
  }
 ],
 "metadata": {
  "kernelspec": {
   "display_name": "Python 3 (ipykernel)",
   "language": "python",
   "name": "python3"
  },
  "language_info": {
   "codemirror_mode": {
    "name": "ipython",
    "version": 3
   },
   "file_extension": ".py",
   "mimetype": "text/x-python",
   "name": "python",
   "nbconvert_exporter": "python",
   "pygments_lexer": "ipython3",
   "version": "3.9.13"
  },
  "varInspector": {
   "cols": {
    "lenName": 16,
    "lenType": 16,
    "lenVar": 40
   },
   "kernels_config": {
    "python": {
     "delete_cmd_postfix": "",
     "delete_cmd_prefix": "del ",
     "library": "var_list.py",
     "varRefreshCmd": "print(var_dic_list())"
    },
    "r": {
     "delete_cmd_postfix": ") ",
     "delete_cmd_prefix": "rm(",
     "library": "var_list.r",
     "varRefreshCmd": "cat(var_dic_list()) "
    }
   },
   "types_to_exclude": [
    "module",
    "function",
    "builtin_function_or_method",
    "instance",
    "_Feature"
   ],
   "window_display": false
  }
 },
 "nbformat": 4,
 "nbformat_minor": 5
}
