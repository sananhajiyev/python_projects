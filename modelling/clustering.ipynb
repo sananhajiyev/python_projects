{
 "cells": [
  {
   "cell_type": "markdown",
   "id": "b861e468",
   "metadata": {},
   "source": [
    "## Disclaimer: The Iris dataset was used in R.A. Fisher's classic 1936 paper, The Use of Multiple Measurements in Taxonomic Problems, and can also be found on the UCI Machine Learning Repository.\n",
    "\n",
    "## Dataset description: It has 6 columns <br>\n",
    "1. Id\n",
    "2. SepalLengthCm\n",
    "3. SepalWidthCm\n",
    "4. PetalLengthCm\n",
    "5. PetalWidthCm\n",
    "6. Species<br>\n",
    "\n",
    "## Task: You will use the Iris diabetes dataset. The dataset corresponds to a clustering problem on which you need to make predictions based on given the 3 iris species with 50 samples each, as well as some properties about each flower in the dataset. You are asked to predict the classes of flowers by using K-means and Hierarchical Clustering methods."
   ]
  },
  {
   "cell_type": "code",
   "execution_count": 1,
   "id": "471b4646",
   "metadata": {},
   "outputs": [],
   "source": [
    "import pandas as pd\n",
    "import numpy as np\n",
    "import seaborn as sns\n",
    "import matplotlib.pyplot as plt\n",
    "import copy"
   ]
  },
  {
   "cell_type": "code",
   "execution_count": 2,
   "id": "28f1772b",
   "metadata": {},
   "outputs": [],
   "source": [
    "data = pd.read_csv('Iris.csv')"
   ]
  },
  {
   "cell_type": "code",
   "execution_count": 3,
   "id": "879465b7",
   "metadata": {},
   "outputs": [
    {
     "data": {
      "text/html": [
       "<div>\n",
       "<style scoped>\n",
       "    .dataframe tbody tr th:only-of-type {\n",
       "        vertical-align: middle;\n",
       "    }\n",
       "\n",
       "    .dataframe tbody tr th {\n",
       "        vertical-align: top;\n",
       "    }\n",
       "\n",
       "    .dataframe thead th {\n",
       "        text-align: right;\n",
       "    }\n",
       "</style>\n",
       "<table border=\"1\" class=\"dataframe\">\n",
       "  <thead>\n",
       "    <tr style=\"text-align: right;\">\n",
       "      <th></th>\n",
       "      <th>Id</th>\n",
       "      <th>SepalLengthCm</th>\n",
       "      <th>SepalWidthCm</th>\n",
       "      <th>PetalLengthCm</th>\n",
       "      <th>PetalWidthCm</th>\n",
       "      <th>Species</th>\n",
       "    </tr>\n",
       "  </thead>\n",
       "  <tbody>\n",
       "    <tr>\n",
       "      <th>0</th>\n",
       "      <td>1</td>\n",
       "      <td>5.1</td>\n",
       "      <td>3.5</td>\n",
       "      <td>1.4</td>\n",
       "      <td>0.2</td>\n",
       "      <td>Iris-setosa</td>\n",
       "    </tr>\n",
       "    <tr>\n",
       "      <th>1</th>\n",
       "      <td>2</td>\n",
       "      <td>4.9</td>\n",
       "      <td>3.0</td>\n",
       "      <td>1.4</td>\n",
       "      <td>0.2</td>\n",
       "      <td>Iris-setosa</td>\n",
       "    </tr>\n",
       "    <tr>\n",
       "      <th>2</th>\n",
       "      <td>3</td>\n",
       "      <td>4.7</td>\n",
       "      <td>3.2</td>\n",
       "      <td>1.3</td>\n",
       "      <td>0.2</td>\n",
       "      <td>Iris-setosa</td>\n",
       "    </tr>\n",
       "    <tr>\n",
       "      <th>3</th>\n",
       "      <td>4</td>\n",
       "      <td>4.6</td>\n",
       "      <td>3.1</td>\n",
       "      <td>1.5</td>\n",
       "      <td>0.2</td>\n",
       "      <td>Iris-setosa</td>\n",
       "    </tr>\n",
       "    <tr>\n",
       "      <th>4</th>\n",
       "      <td>5</td>\n",
       "      <td>5.0</td>\n",
       "      <td>3.6</td>\n",
       "      <td>1.4</td>\n",
       "      <td>0.2</td>\n",
       "      <td>Iris-setosa</td>\n",
       "    </tr>\n",
       "  </tbody>\n",
       "</table>\n",
       "</div>"
      ],
      "text/plain": [
       "   Id  SepalLengthCm  SepalWidthCm  PetalLengthCm  PetalWidthCm      Species\n",
       "0   1            5.1           3.5            1.4           0.2  Iris-setosa\n",
       "1   2            4.9           3.0            1.4           0.2  Iris-setosa\n",
       "2   3            4.7           3.2            1.3           0.2  Iris-setosa\n",
       "3   4            4.6           3.1            1.5           0.2  Iris-setosa\n",
       "4   5            5.0           3.6            1.4           0.2  Iris-setosa"
      ]
     },
     "execution_count": 3,
     "metadata": {},
     "output_type": "execute_result"
    }
   ],
   "source": [
    "df = copy.deepcopy(data)\n",
    "df.head()"
   ]
  },
  {
   "cell_type": "code",
   "execution_count": 4,
   "id": "fa50a436",
   "metadata": {},
   "outputs": [
    {
     "name": "stdout",
     "output_type": "stream",
     "text": [
      "<class 'pandas.core.frame.DataFrame'>\n",
      "RangeIndex: 150 entries, 0 to 149\n",
      "Data columns (total 6 columns):\n",
      " #   Column         Non-Null Count  Dtype  \n",
      "---  ------         --------------  -----  \n",
      " 0   Id             150 non-null    int64  \n",
      " 1   SepalLengthCm  150 non-null    float64\n",
      " 2   SepalWidthCm   150 non-null    float64\n",
      " 3   PetalLengthCm  150 non-null    float64\n",
      " 4   PetalWidthCm   150 non-null    float64\n",
      " 5   Species        150 non-null    object \n",
      "dtypes: float64(4), int64(1), object(1)\n",
      "memory usage: 7.2+ KB\n"
     ]
    }
   ],
   "source": [
    "df.info()"
   ]
  },
  {
   "cell_type": "code",
   "execution_count": 5,
   "id": "6c3a41d4",
   "metadata": {},
   "outputs": [
    {
     "data": {
      "text/plain": [
       "Id               0\n",
       "SepalLengthCm    0\n",
       "SepalWidthCm     0\n",
       "PetalLengthCm    0\n",
       "PetalWidthCm     0\n",
       "Species          0\n",
       "dtype: int64"
      ]
     },
     "execution_count": 5,
     "metadata": {},
     "output_type": "execute_result"
    }
   ],
   "source": [
    "df.isna().sum()"
   ]
  },
  {
   "cell_type": "code",
   "execution_count": 6,
   "id": "6060860c",
   "metadata": {},
   "outputs": [
    {
     "data": {
      "text/plain": [
       "(150, 6)"
      ]
     },
     "execution_count": 6,
     "metadata": {},
     "output_type": "execute_result"
    }
   ],
   "source": [
    "df.shape"
   ]
  },
  {
   "cell_type": "code",
   "execution_count": 7,
   "id": "96aa7505",
   "metadata": {},
   "outputs": [
    {
     "data": {
      "text/plain": [
       "Id               150\n",
       "SepalLengthCm     35\n",
       "SepalWidthCm      23\n",
       "PetalLengthCm     43\n",
       "PetalWidthCm      22\n",
       "Species            3\n",
       "dtype: int64"
      ]
     },
     "execution_count": 7,
     "metadata": {},
     "output_type": "execute_result"
    }
   ],
   "source": [
    "df.nunique()"
   ]
  },
  {
   "cell_type": "code",
   "execution_count": 8,
   "id": "a02986c5",
   "metadata": {},
   "outputs": [
    {
     "data": {
      "text/html": [
       "<div>\n",
       "<style scoped>\n",
       "    .dataframe tbody tr th:only-of-type {\n",
       "        vertical-align: middle;\n",
       "    }\n",
       "\n",
       "    .dataframe tbody tr th {\n",
       "        vertical-align: top;\n",
       "    }\n",
       "\n",
       "    .dataframe thead th {\n",
       "        text-align: right;\n",
       "    }\n",
       "</style>\n",
       "<table border=\"1\" class=\"dataframe\">\n",
       "  <thead>\n",
       "    <tr style=\"text-align: right;\">\n",
       "      <th></th>\n",
       "      <th>count</th>\n",
       "      <th>unique</th>\n",
       "      <th>top</th>\n",
       "      <th>freq</th>\n",
       "      <th>mean</th>\n",
       "      <th>std</th>\n",
       "      <th>min</th>\n",
       "      <th>25%</th>\n",
       "      <th>50%</th>\n",
       "      <th>75%</th>\n",
       "      <th>max</th>\n",
       "    </tr>\n",
       "  </thead>\n",
       "  <tbody>\n",
       "    <tr>\n",
       "      <th>Id</th>\n",
       "      <td>150.0</td>\n",
       "      <td>NaN</td>\n",
       "      <td>NaN</td>\n",
       "      <td>NaN</td>\n",
       "      <td>75.5</td>\n",
       "      <td>43.445368</td>\n",
       "      <td>1.0</td>\n",
       "      <td>38.25</td>\n",
       "      <td>75.5</td>\n",
       "      <td>112.75</td>\n",
       "      <td>150.0</td>\n",
       "    </tr>\n",
       "    <tr>\n",
       "      <th>SepalLengthCm</th>\n",
       "      <td>150.0</td>\n",
       "      <td>NaN</td>\n",
       "      <td>NaN</td>\n",
       "      <td>NaN</td>\n",
       "      <td>5.843333</td>\n",
       "      <td>0.828066</td>\n",
       "      <td>4.3</td>\n",
       "      <td>5.1</td>\n",
       "      <td>5.8</td>\n",
       "      <td>6.4</td>\n",
       "      <td>7.9</td>\n",
       "    </tr>\n",
       "    <tr>\n",
       "      <th>SepalWidthCm</th>\n",
       "      <td>150.0</td>\n",
       "      <td>NaN</td>\n",
       "      <td>NaN</td>\n",
       "      <td>NaN</td>\n",
       "      <td>3.054</td>\n",
       "      <td>0.433594</td>\n",
       "      <td>2.0</td>\n",
       "      <td>2.8</td>\n",
       "      <td>3.0</td>\n",
       "      <td>3.3</td>\n",
       "      <td>4.4</td>\n",
       "    </tr>\n",
       "    <tr>\n",
       "      <th>PetalLengthCm</th>\n",
       "      <td>150.0</td>\n",
       "      <td>NaN</td>\n",
       "      <td>NaN</td>\n",
       "      <td>NaN</td>\n",
       "      <td>3.758667</td>\n",
       "      <td>1.76442</td>\n",
       "      <td>1.0</td>\n",
       "      <td>1.6</td>\n",
       "      <td>4.35</td>\n",
       "      <td>5.1</td>\n",
       "      <td>6.9</td>\n",
       "    </tr>\n",
       "    <tr>\n",
       "      <th>PetalWidthCm</th>\n",
       "      <td>150.0</td>\n",
       "      <td>NaN</td>\n",
       "      <td>NaN</td>\n",
       "      <td>NaN</td>\n",
       "      <td>1.198667</td>\n",
       "      <td>0.763161</td>\n",
       "      <td>0.1</td>\n",
       "      <td>0.3</td>\n",
       "      <td>1.3</td>\n",
       "      <td>1.8</td>\n",
       "      <td>2.5</td>\n",
       "    </tr>\n",
       "    <tr>\n",
       "      <th>Species</th>\n",
       "      <td>150</td>\n",
       "      <td>3</td>\n",
       "      <td>Iris-setosa</td>\n",
       "      <td>50</td>\n",
       "      <td>NaN</td>\n",
       "      <td>NaN</td>\n",
       "      <td>NaN</td>\n",
       "      <td>NaN</td>\n",
       "      <td>NaN</td>\n",
       "      <td>NaN</td>\n",
       "      <td>NaN</td>\n",
       "    </tr>\n",
       "  </tbody>\n",
       "</table>\n",
       "</div>"
      ],
      "text/plain": [
       "               count unique          top freq      mean        std  min  \\\n",
       "Id             150.0    NaN          NaN  NaN      75.5  43.445368  1.0   \n",
       "SepalLengthCm  150.0    NaN          NaN  NaN  5.843333   0.828066  4.3   \n",
       "SepalWidthCm   150.0    NaN          NaN  NaN     3.054   0.433594  2.0   \n",
       "PetalLengthCm  150.0    NaN          NaN  NaN  3.758667    1.76442  1.0   \n",
       "PetalWidthCm   150.0    NaN          NaN  NaN  1.198667   0.763161  0.1   \n",
       "Species          150      3  Iris-setosa   50       NaN        NaN  NaN   \n",
       "\n",
       "                 25%   50%     75%    max  \n",
       "Id             38.25  75.5  112.75  150.0  \n",
       "SepalLengthCm    5.1   5.8     6.4    7.9  \n",
       "SepalWidthCm     2.8   3.0     3.3    4.4  \n",
       "PetalLengthCm    1.6  4.35     5.1    6.9  \n",
       "PetalWidthCm     0.3   1.3     1.8    2.5  \n",
       "Species          NaN   NaN     NaN    NaN  "
      ]
     },
     "execution_count": 8,
     "metadata": {},
     "output_type": "execute_result"
    }
   ],
   "source": [
    "df.describe(include='all').T"
   ]
  },
  {
   "cell_type": "code",
   "execution_count": 9,
   "id": "8402c050",
   "metadata": {},
   "outputs": [],
   "source": [
    "from sklearn.cluster import KMeans, AgglomerativeClustering\n",
    "from sklearn.preprocessing import StandardScaler\n",
    "from sklearn.datasets import load_iris"
   ]
  },
  {
   "cell_type": "code",
   "execution_count": 10,
   "id": "18b325bc",
   "metadata": {},
   "outputs": [],
   "source": [
    "iris = load_iris()\n",
    "data = iris.data\n",
    "\n",
    "scaler = StandardScaler()\n",
    "data_scaled = scaler.fit_transform(data)\n",
    "\n",
    "kmeans = KMeans(n_clusters=3, random_state=42)\n",
    "kmeans_labels = kmeans.fit_predict(data_scaled)\n",
    "\n",
    "agg_clustering = AgglomerativeClustering(n_clusters=3)\n",
    "agg_labels = agg_clustering.fit_predict(data_scaled)"
   ]
  },
  {
   "cell_type": "code",
   "execution_count": 11,
   "id": "df3f550d",
   "metadata": {},
   "outputs": [
    {
     "data": {
      "image/png": "[encoded data removed]",
      "text/plain": [
       "<Figure size 1200x500 with 1 Axes>"
      ]
     },
     "metadata": {},
     "output_type": "display_data"
    }
   ],
   "source": [
    "unique_kmeans_labels = np.unique(kmeans_labels)\n",
    "kmeans_cluster_names = [\"Cluster 1\", \"Cluster 2\", \"Cluster 3\"]\n",
    "\n",
    "plt.figure(figsize=(12, 5))\n",
    "plt.subplot(1, 2, 1)\n",
    "plt.title(\"K-means Clustering\")\n",
    "\n",
    "for label, cluster_name in zip(unique_kmeans_labels, kmeans_cluster_names):\n",
    "    plt.scatter(data_scaled[kmeans_labels == label, 0], data_scaled[kmeans_labels == label, 1], label=cluster_name)\n",
    "\n",
    "plt.legend()\n",
    "plt.show()"
   ]
  },
  {
   "cell_type": "code",
   "execution_count": 12,
   "id": "ab2b2508",
   "metadata": {},
   "outputs": [
    {
     "data": {
      "image/png": "[encoded data removed]",
      "text/plain": [
       "<Figure size 1200x500 with 1 Axes>"
      ]
     },
     "metadata": {},
     "output_type": "display_data"
    }
   ],
   "source": [
    "unique_agg_labels = np.unique(agg_labels)\n",
    "agg_cluster_names = [\"Cluster 1\", \"Cluster 2\", \"Cluster 3\"]\n",
    "\n",
    "plt.figure(figsize=(12, 5))\n",
    "plt.subplot(1, 2, 2)\n",
    "plt.title(\"Hierarchical Clustering\")\n",
    "\n",
    "for label, cluster_name in zip(unique_agg_labels, agg_cluster_names):\n",
    "    plt.scatter(data_scaled[agg_labels == label, 0], data_scaled[agg_labels == label, 1], label=cluster_name)\n",
    "\n",
    "plt.legend()\n",
    "plt.show()"
   ]
  },
  {
   "cell_type": "code",
   "execution_count": 13,
   "id": "12c60179",
   "metadata": {},
   "outputs": [
    {
     "name": "stdout",
     "output_type": "stream",
     "text": [
      "K-means Clustered Data:\n",
      "     Feature 1  Feature 2  Feature 3  Feature 4  K-means Cluster\n",
      "100   0.553333   0.558611   1.274295   1.712096                0\n",
      "101  -0.052506  -0.822570   0.762758   0.922303                2\n",
      "102   1.522676  -0.131979   1.217458   1.185567                0\n",
      "103   0.553333  -0.362176   1.046945   0.790671                0\n",
      "104   0.795669  -0.131979   1.160620   1.317199                0\n",
      "105   2.128516  -0.131979   1.615320   1.185567                0\n",
      "106  -1.143017  -1.282963   0.421734   0.659038                2\n",
      "107   1.765012  -0.362176   1.444807   0.790671                0\n",
      "108   1.038005  -1.282963   1.160620   0.790671                0\n",
      "109   1.643844   1.249201   1.331133   1.712096                0\n",
      "110   0.795669   0.328414   0.762758   1.053935                0\n",
      "111   0.674501  -0.822570   0.876433   0.922303                0\n",
      "112   1.159173  -0.131979   0.990108   1.185567                0\n",
      "113  -0.173674  -1.282963   0.705921   1.053935                2\n",
      "114  -0.052506  -0.592373   0.762758   1.580464                2\n",
      "115   0.674501   0.328414   0.876433   1.448832                0\n",
      "116   0.795669  -0.131979   0.990108   0.790671                0\n",
      "117   2.249683   1.709595   1.672157   1.317199                0\n",
      "118   2.249683  -1.052767   1.785832   1.448832                0\n",
      "119   0.189830  -1.973554   0.705921   0.395774                2\n",
      "120   1.280340   0.328414   1.103783   1.448832                0\n",
      "121  -0.294842  -0.592373   0.649083   1.053935                2\n",
      "122   2.249683  -0.592373   1.672157   1.053935                0\n",
      "123   0.553333  -0.822570   0.649083   0.790671                2\n",
      "124   1.038005   0.558611   1.103783   1.185567                0\n",
      "125   1.643844   0.328414   1.274295   0.790671                0\n",
      "126   0.432165  -0.592373   0.592246   0.790671                2\n",
      "127   0.310998  -0.131979   0.649083   0.790671                0\n",
      "128   0.674501  -0.592373   1.046945   1.185567                0\n",
      "129   1.643844  -0.131979   1.160620   0.527406                0\n",
      "130   1.886180  -0.592373   1.331133   0.922303                0\n",
      "131   2.492019   1.709595   1.501645   1.053935                0\n",
      "132   0.674501  -0.592373   1.046945   1.317199                0\n",
      "133   0.553333  -0.592373   0.762758   0.395774                2\n",
      "134   0.310998  -1.052767   1.046945   0.264142                2\n",
      "135   2.249683  -0.131979   1.331133   1.448832                0\n",
      "136   0.553333   0.788808   1.046945   1.580464                0\n",
      "137   0.674501   0.098217   0.990108   0.790671                0\n",
      "138   0.189830  -0.131979   0.592246   0.790671                2\n",
      "139   1.280340   0.098217   0.933271   1.185567                0\n",
      "140   1.038005   0.098217   1.046945   1.580464                0\n",
      "141   1.280340   0.098217   0.762758   1.448832                0\n",
      "142  -0.052506  -0.822570   0.762758   0.922303                2\n",
      "143   1.159173   0.328414   1.217458   1.448832                0\n",
      "144   1.038005   0.558611   1.103783   1.712096                0\n",
      "145   1.038005  -0.131979   0.819596   1.448832                0\n",
      "146   0.553333  -1.282963   0.705921   0.922303                2\n",
      "147   0.795669  -0.131979   0.819596   1.053935                0\n",
      "148   0.432165   0.788808   0.933271   1.448832                0\n",
      "149   0.068662  -0.131979   0.762758   0.790671                2\n"
     ]
    }
   ],
   "source": [
    "kmeans_df = pd.DataFrame(data_scaled, columns=['Feature 1', 'Feature 2', 'Feature 3', 'Feature 4'])\n",
    "kmeans_df['K-means Cluster'] = kmeans_labels\n",
    "\n",
    "\n",
    "print(\"K-means Clustered Data:\")\n",
    "print(kmeans_df.tail(50))"
   ]
  },
  {
   "cell_type": "code",
   "execution_count": 14,
   "id": "b82bb3a6",
   "metadata": {},
   "outputs": [
    {
     "name": "stdout",
     "output_type": "stream",
     "text": [
      "\n",
      "Hierarchical Clustered Data:\n",
      "    Feature 1  Feature 2  Feature 3  Feature 4  Hierarchical Cluster\n",
      "50   1.401508   0.328414   0.535409   0.264142                     0\n",
      "51   0.674501   0.328414   0.421734   0.395774                     0\n",
      "52   1.280340   0.098217   0.649083   0.395774                     0\n",
      "53  -0.416010  -1.743357   0.137547   0.132510                     2\n",
      "54   0.795669  -0.592373   0.478571   0.395774                     0\n",
      "55  -0.173674  -0.592373   0.421734   0.132510                     2\n",
      "56   0.553333   0.558611   0.535409   0.527406                     0\n",
      "57  -1.143017  -1.513160  -0.260315  -0.262387                     2\n",
      "58   0.916837  -0.362176   0.478571   0.132510                     0\n",
      "59  -0.779513  -0.822570   0.080709   0.264142                     2\n",
      "60  -1.021849  -2.433947  -0.146641  -0.262387                     2\n",
      "61   0.068662  -0.131979   0.251221   0.395774                     0\n",
      "62   0.189830  -1.973554   0.137547  -0.262387                     2\n",
      "63   0.310998  -0.362176   0.535409   0.264142                     0\n",
      "64  -0.294842  -0.362176  -0.089803   0.132510                     2\n",
      "65   1.038005   0.098217   0.364896   0.264142                     0\n",
      "66  -0.294842  -0.131979   0.421734   0.395774                     2\n",
      "67  -0.052506  -0.822570   0.194384  -0.262387                     2\n",
      "68   0.432165  -1.973554   0.421734   0.395774                     2\n",
      "69  -0.294842  -1.282963   0.080709  -0.130755                     2\n",
      "70   0.068662   0.328414   0.592246   0.790671                     0\n",
      "71   0.310998  -0.592373   0.137547   0.132510                     0\n",
      "72   0.553333  -1.282963   0.649083   0.395774                     0\n",
      "73   0.310998  -0.592373   0.535409   0.000878                     0\n",
      "74   0.674501  -0.362176   0.308059   0.132510                     0\n",
      "75   0.916837  -0.131979   0.364896   0.264142                     0\n",
      "76   1.159173  -0.592373   0.592246   0.264142                     0\n",
      "77   1.038005  -0.131979   0.705921   0.659038                     0\n",
      "78   0.189830  -0.362176   0.421734   0.395774                     0\n",
      "79  -0.173674  -1.052767  -0.146641  -0.262387                     2\n",
      "80  -0.416010  -1.513160   0.023872  -0.130755                     2\n"
     ]
    }
   ],
   "source": [
    "agg_df = pd.DataFrame(data_scaled, columns=['Feature 1', 'Feature 2', 'Feature 3', 'Feature 4'])\n",
    "agg_df['Hierarchical Cluster'] = agg_labels\n",
    "\n",
    "print(\"\\nHierarchical Clustered Data:\")\n",
    "print(agg_df.head(81).tail(31))"
   ]
  }
 ],
 "metadata": {
  "kernelspec": {
   "display_name": "Python 3 (ipykernel)",
   "language": "python",
   "name": "python3"
  },
  "language_info": {
   "codemirror_mode": {
    "name": "ipython",
    "version": 3
   },
   "file_extension": ".py",
   "mimetype": "text/x-python",
   "name": "python",
   "nbconvert_exporter": "python",
   "pygments_lexer": "ipython3",
   "version": "3.9.13"
  },
  "varInspector": {
   "cols": {
    "lenName": 16,
    "lenType": 16,
    "lenVar": 40
   },
   "kernels_config": {
    "python": {
     "delete_cmd_postfix": "",
     "delete_cmd_prefix": "del ",
     "library": "var_list.py",
     "varRefreshCmd": "print(var_dic_list())"
    },
    "r": {
     "delete_cmd_postfix": ") ",
     "delete_cmd_prefix": "rm(",
     "library": "var_list.r",
     "varRefreshCmd": "cat(var_dic_list()) "
    }
   },
   "types_to_exclude": [
    "module",
    "function",
    "builtin_function_or_method",
    "instance",
    "_Feature"
   ],
   "window_display": false
  }
 },
 "nbformat": 4,
 "nbformat_minor": 5
}
